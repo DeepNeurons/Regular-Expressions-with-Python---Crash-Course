{
 "cells": [
  {
   "cell_type": "markdown",
   "id": "7fb3c50c",
   "metadata": {},
   "source": [
    "<b>In this Notebook you will have everything you need to start working on regular expressions. This notebook includes </b>\n"
   ]
  },
  {
   "cell_type": "markdown",
   "id": "2bfed553",
   "metadata": {},
   "source": [
    "# 1. Basic text searching "
   ]
  },
  {
   "cell_type": "markdown",
   "id": "cdc0ac1a",
   "metadata": {},
   "source": [
    "## 1.1. String split"
   ]
  },
  {
   "cell_type": "code",
   "execution_count": 3,
   "id": "7b2f58e4",
   "metadata": {},
   "outputs": [],
   "source": [
    "line1 = \"this text doen't contain any commas\"\n",
    "line2 = \"my name is : Edi\"\n",
    "line3 = \"\""
   ]
  },
  {
   "cell_type": "markdown",
   "id": "6229da98",
   "metadata": {},
   "source": [
    "- break line1 into signle words using space between them"
   ]
  },
  {
   "cell_type": "code",
   "execution_count": 4,
   "id": "fb5e6503",
   "metadata": {},
   "outputs": [
    {
     "data": {
      "text/plain": [
       "['this', 'text', \"doen't\", 'contain', 'any', 'commas']"
      ]
     },
     "execution_count": 4,
     "metadata": {},
     "output_type": "execute_result"
    }
   ],
   "source": [
    "line1.split()"
   ]
  },
  {
   "cell_type": "markdown",
   "id": "b8eda6bd",
   "metadata": {},
   "source": [
    "- break line2 using \":\""
   ]
  },
  {
   "cell_type": "code",
   "execution_count": 5,
   "id": "fbce807e",
   "metadata": {},
   "outputs": [
    {
     "data": {
      "text/plain": [
       "['my name is ', ' Edi']"
      ]
     },
     "execution_count": 5,
     "metadata": {},
     "output_type": "execute_result"
    }
   ],
   "source": [
    "line2.split(\":\")"
   ]
  },
  {
   "cell_type": "markdown",
   "id": "659e8161",
   "metadata": {},
   "source": [
    "# 2. using re library"
   ]
  },
  {
   "cell_type": "markdown",
   "id": "d9ae6326",
   "metadata": {},
   "source": [
    "### 1.2.1. Basic patterns"
   ]
  },
  {
   "cell_type": "markdown",
   "id": "d405e80e",
   "metadata": {},
   "source": [
    "#### re.search"
   ]
  },
  {
   "cell_type": "code",
   "execution_count": 7,
   "id": "614b1b1d",
   "metadata": {},
   "outputs": [],
   "source": [
    "## assuming we have this text string\n",
    "text = \"the phone number of the radio station is 503-125-889. you can call whenever\""
   ]
  },
  {
   "cell_type": "markdown",
   "id": "fbf032ff",
   "metadata": {},
   "source": [
    "###### let's look for the word \"phone\" and \"police\" in text declared above"
   ]
  },
  {
   "cell_type": "code",
   "execution_count": 8,
   "id": "9d8f3fba",
   "metadata": {},
   "outputs": [
    {
     "data": {
      "text/plain": [
       "True"
      ]
     },
     "execution_count": 8,
     "metadata": {},
     "output_type": "execute_result"
    }
   ],
   "source": [
    "'phone' in text"
   ]
  },
  {
   "cell_type": "code",
   "execution_count": 9,
   "id": "7265efb6",
   "metadata": {},
   "outputs": [
    {
     "data": {
      "text/plain": [
       "False"
      ]
     },
     "execution_count": 9,
     "metadata": {},
     "output_type": "execute_result"
    }
   ],
   "source": [
    "\"police\" in text"
   ]
  },
  {
   "cell_type": "code",
   "execution_count": 10,
   "id": "9eb86d48",
   "metadata": {},
   "outputs": [
    {
     "data": {
      "text/plain": [
       "<re.Match object; span=(4, 9), match='phone'>"
      ]
     },
     "execution_count": 10,
     "metadata": {},
     "output_type": "execute_result"
    }
   ],
   "source": [
    "## now we are going to use re too look for the word in the text including its position\n",
    "\n",
    "import re\n",
    "pattern = 'phone'\n",
    "result = re.search(pattern,text)\n",
    "result"
   ]
  },
  {
   "cell_type": "markdown",
   "id": "0525ee39",
   "metadata": {},
   "source": [
    "* type : re.Match object\n",
    "* span : tuple of start and end position of the pattern we're looking for\n",
    "* match : the pattern we're looking for"
   ]
  },
  {
   "cell_type": "code",
   "execution_count": 15,
   "id": "5eadc735",
   "metadata": {},
   "outputs": [
    {
     "name": "stdout",
     "output_type": "stream",
     "text": [
      "the start position is : 4\n",
      "the end position is : 9\n"
     ]
    }
   ],
   "source": [
    "## OK let's get start position and end position of the pattern\n",
    "print(f\"the start position is : {result.start()}\")\n",
    "print(f\"the end position is : {result.end()}\")"
   ]
  },
  {
   "cell_type": "markdown",
   "id": "ace92ad1",
   "metadata": {},
   "source": [
    "#### re.findall"
   ]
  },
  {
   "cell_type": "code",
   "execution_count": 17,
   "id": "fb656626",
   "metadata": {},
   "outputs": [],
   "source": [
    "## Now let's assume that pattern we're looking for in occured more than once \n",
    "text = \"This recipe was inspired by a similar recipe at ActiveState that worked by manipulating Python’s byte code.\"\n"
   ]
  },
  {
   "cell_type": "code",
   "execution_count": 18,
   "id": "d705b6f2",
   "metadata": {},
   "outputs": [
    {
     "data": {
      "text/plain": [
       "['by', 'by', 'by']"
      ]
     },
     "execution_count": 18,
     "metadata": {},
     "output_type": "execute_result"
    }
   ],
   "source": [
    "matches = re.findall(r'by',text)\n",
    "matches"
   ]
  },
  {
   "cell_type": "code",
   "execution_count": 19,
   "id": "967a41da",
   "metadata": {},
   "outputs": [
    {
     "data": {
      "text/plain": [
       "3"
      ]
     },
     "execution_count": 19,
     "metadata": {},
     "output_type": "execute_result"
    }
   ],
   "source": [
    "len(matches)"
   ]
  },
  {
   "cell_type": "markdown",
   "id": "2c2afe85",
   "metadata": {},
   "source": [
    "To get actual match objects, use the iterator: we're gonna use re.finditer"
   ]
  },
  {
   "cell_type": "markdown",
   "id": "acd4dfd8",
   "metadata": {},
   "source": [
    "#### re.finditer"
   ]
  },
  {
   "cell_type": "code",
   "execution_count": 21,
   "id": "651a0d17",
   "metadata": {},
   "outputs": [
    {
     "name": "stdout",
     "output_type": "stream",
     "text": [
      "(25, 27)\n",
      "(72, 74)\n",
      "(97, 99)\n"
     ]
    }
   ],
   "source": [
    "for match in re.finditer(r'by',text):\n",
    "    print(match.span())"
   ]
  },
  {
   "cell_type": "markdown",
   "id": "cb83a38d",
   "metadata": {},
   "source": [
    "If you wanted the actual text that matched, you can use the .group() method."
   ]
  },
  {
   "cell_type": "code",
   "execution_count": 23,
   "id": "10fbd0f5",
   "metadata": {},
   "outputs": [
    {
     "data": {
      "text/plain": [
       "'by'"
      ]
     },
     "execution_count": 23,
     "metadata": {},
     "output_type": "execute_result"
    }
   ],
   "source": [
    "match.group()"
   ]
  },
  {
   "cell_type": "markdown",
   "id": "ceaf25b0",
   "metadata": {},
   "source": [
    "## 1.2.1 Built-in patterns"
   ]
  },
  {
   "cell_type": "markdown",
   "id": "1aa7cac7",
   "metadata": {},
   "source": [
    "So far we were using simple examples with simple patterns, in the next section we're going to use the built-in patterns and by the way that's "
   ]
  },
  {
   "cell_type": "markdown",
   "id": "864a1b14",
   "metadata": {},
   "source": [
    "<table ><tr><th>Character</th><th>Description</th></tr>\n",
    "\n",
    "<tr ><td><span >\\d</span></td><td>A digit</td>\n",
    "\n",
    "<tr ><td><span >\\w</span></td><td>Alphanumeric</td>\n",
    "\n",
    "\n",
    "\n",
    "<tr ><td><span >\\s</span></td><td>White space</td>\n",
    "\n",
    "\n",
    "<tr ><td><span >\\D</span></td><td>A non digit</td>\n",
    "\n",
    "<tr ><td><span >\\W</span></td><td>Non-alphanumeric</td>\n",
    "\n",
    "<tr ><td><span >\\S</span></td><td>Non-whitespace</td>"
   ]
  },
  {
   "cell_type": "code",
   "execution_count": 24,
   "id": "92071419",
   "metadata": {},
   "outputs": [],
   "source": [
    "text = \"Tesla is number 1\" "
   ]
  },
  {
   "cell_type": "code",
   "execution_count": 25,
   "id": "215e54df",
   "metadata": {},
   "outputs": [
    {
     "data": {
      "text/plain": [
       "'1'"
      ]
     },
     "execution_count": 25,
     "metadata": {},
     "output_type": "execute_result"
    }
   ],
   "source": [
    "## let's look for the number in this text\n",
    "Number = re.search(r'\\d',text)\n",
    "Number.group()"
   ]
  },
  {
   "cell_type": "code",
   "execution_count": 32,
   "id": "a2ecdc7a",
   "metadata": {},
   "outputs": [],
   "source": [
    "text = \" My phone number is 216-001-356\""
   ]
  },
  {
   "cell_type": "code",
   "execution_count": 28,
   "id": "6b7bf8cb",
   "metadata": {},
   "outputs": [
    {
     "data": {
      "text/plain": [
       "'216-001-356'"
      ]
     },
     "execution_count": 28,
     "metadata": {},
     "output_type": "execute_result"
    }
   ],
   "source": [
    "N = re.search(r'\\d\\d\\d-\\d\\d\\d-\\d\\d\\d',text)\n",
    "N.group()"
   ]
  },
  {
   "cell_type": "code",
   "execution_count": 29,
   "id": "e7b0b0b1",
   "metadata": {},
   "outputs": [
    {
     "data": {
      "text/plain": [
       "(19, 30)"
      ]
     },
     "execution_count": 29,
     "metadata": {},
     "output_type": "execute_result"
    }
   ],
   "source": [
    "N.span()"
   ]
  },
  {
   "cell_type": "code",
   "execution_count": 38,
   "id": "f24482d8",
   "metadata": {},
   "outputs": [
    {
     "data": {
      "text/plain": [
       "[' My ', ' is ']"
      ]
     },
     "execution_count": 38,
     "metadata": {},
     "output_type": "execute_result"
    }
   ],
   "source": [
    "## let's look for all the words containing  2 characters\n",
    "CHar = re.findall(r'\\s\\w\\w\\s',text)\n",
    "CHar"
   ]
  },
  {
   "cell_type": "markdown",
   "id": "4f436f46",
   "metadata": {},
   "source": [
    "* Note that we used space(\\s) before and after the pattern(\\w\\w) to avoid this type of confusion represented by CHarc below : \n"
   ]
  },
  {
   "cell_type": "code",
   "execution_count": 39,
   "id": "f1d98e60",
   "metadata": {},
   "outputs": [
    {
     "data": {
      "text/plain": [
       "['My', 'ph', 'on', 'nu', 'mb', 'er', 'is', '21', '00', '35']"
      ]
     },
     "execution_count": 39,
     "metadata": {},
     "output_type": "execute_result"
    }
   ],
   "source": [
    "CHarc = re.findall(r'\\w\\w',text)\n",
    "CHarc"
   ]
  }
 ],
 "metadata": {
  "kernelspec": {
   "display_name": "Python 3",
   "language": "python",
   "name": "python3"
  },
  "language_info": {
   "codemirror_mode": {
    "name": "ipython",
    "version": 3
   },
   "file_extension": ".py",
   "mimetype": "text/x-python",
   "name": "python",
   "nbconvert_exporter": "python",
   "pygments_lexer": "ipython3",
   "version": "3.8.8"
  }
 },
 "nbformat": 4,
 "nbformat_minor": 5
}
